{
 "cells": [
  {
   "cell_type": "markdown",
   "metadata": {},
   "source": [
    "Metode SAW Simple Additive Weighting (SAW) adalah salah satu metode yang digunakan dalam proses pengambilan suatu keputusan. "
   ]
  },
  {
   "cell_type": "code",
   "execution_count": 34,
   "metadata": {},
   "outputs": [],
   "source": [
    "import pandas as pd\n",
    "import numpy as np"
   ]
  },
  {
   "cell_type": "code",
   "execution_count": 35,
   "metadata": {},
   "outputs": [
    {
     "name": "stdout",
     "output_type": "stream",
     "text": [
      "                         Corporation  ROE - Return On Equity  \\\n",
      "0          American States Water Co.                  8.1724   \n",
      "1     Automatic Data Processing Inc.                 22.0354   \n",
      "2                         Avnet Inc.                 13.6376   \n",
      "3       California Water Service Co.                  9.6412   \n",
      "4               Cardinal Health Inc.                 11.1256   \n",
      "...                              ...                     ...   \n",
      "1372                   Welbilt, Inc.                 12.9974   \n",
      "1373         Westlake Chemical Corp.                 18.6697   \n",
      "1374                     Xerox Corp.                  9.7833   \n",
      "1375            YPF Sociedad Anonima                  3.6742   \n",
      "1376       iHeartCommunications Inc.                 11.8335   \n",
      "\n",
      "      Net Profit Margin  Operating Cash Flow Per Share  Debt/Equity Ratio  \n",
      "0                8.3224                         1.9957             0.8847  \n",
      "1               13.5690                         0.2501             0.0073  \n",
      "2                2.1418                        -7.6079             0.4255  \n",
      "3                9.0246                         1.7438             0.9491  \n",
      "4                0.6518                         1.9725             0.4036  \n",
      "...                 ...                            ...                ...  \n",
      "1372            10.0057                        -0.4174             0.0022  \n",
      "1373            14.4074                         0.4307             0.2128  \n",
      "1374             7.9896                        -0.6035             0.6973  \n",
      "1375             2.9327                        -3.0941             0.8779  \n",
      "1376             8.0626                         0.0907             0.1523  \n",
      "\n",
      "[1377 rows x 5 columns]\n"
     ]
    }
   ],
   "source": [
    "path = \"dataset/dataset_clean.csv\"\n",
    "df = pd.read_csv(path)\n",
    "# df = df.head(4)\n",
    "print(df)"
   ]
  },
  {
   "cell_type": "markdown",
   "metadata": {},
   "source": [
    "Fungsi untuk normalisasi data"
   ]
  },
  {
   "cell_type": "code",
   "execution_count": 36,
   "metadata": {},
   "outputs": [],
   "source": [
    "def normalize(matrix, benefit_criteria):\n",
    "    normalized = np.zeros(matrix.shape)\n",
    "    for i in range(matrix.shape[1]):\n",
    "        if i in benefit_criteria:\n",
    "            normalized[:, i] = matrix[:, i] / np.max(matrix[:, i])\n",
    "        else:\n",
    "            normalized[:, i] = np.min(matrix[:, i]) / matrix[:, i]\n",
    "    return normalized"
   ]
  },
  {
   "cell_type": "markdown",
   "metadata": {},
   "source": [
    "Perhitungan dengan SAW "
   ]
  },
  {
   "cell_type": "code",
   "execution_count": 37,
   "metadata": {},
   "outputs": [],
   "source": [
    "def saw_method(matrix, weights, benefit_criteria):\n",
    "    normalized = normalize(matrix, benefit_criteria)\n",
    "    weighted = normalized * weights\n",
    "    scores = np.sum(weighted, axis=1)\n",
    "    return scores"
   ]
  },
  {
   "cell_type": "markdown",
   "metadata": {},
   "source": [
    "Menentukan bobot dan kriteria"
   ]
  },
  {
   "cell_type": "code",
   "execution_count": 38,
   "metadata": {},
   "outputs": [],
   "source": [
    "criteria = ['ROE - Return On Equity', 'Net Profit Margin', 'Operating Cash Flow Per Share', 'Debt/Equity Ratio']\n",
    "weights = np.array([0.30, 0.25, 0.20, 0.25])\n",
    "benefit_criteria = [0, 1, 2]  # Indeks kolom untuk kriteria benefit (0-based)"
   ]
  },
  {
   "cell_type": "markdown",
   "metadata": {},
   "source": [
    "Membuat matrix dari data"
   ]
  },
  {
   "cell_type": "code",
   "execution_count": 39,
   "metadata": {},
   "outputs": [],
   "source": [
    "matrix = df[criteria].values"
   ]
  },
  {
   "cell_type": "markdown",
   "metadata": {},
   "source": [
    "Menghitung skor SAW"
   ]
  },
  {
   "cell_type": "code",
   "execution_count": 40,
   "metadata": {},
   "outputs": [
    {
     "name": "stdout",
     "output_type": "stream",
     "text": [
      "Hasil Perangkingan:\n",
      "                                      Corporation          Score  \\\n",
      "0                              UNISYS CORPORATION    2781.532749   \n",
      "1                              Unisys Corporation    1342.110449   \n",
      "2                           Eastman Kodak Company     940.861645   \n",
      "3     China State Construction Int'l Holdings Ltd     574.613855   \n",
      "4                     Eastman Kodak Company (DIP)     571.208842   \n",
      "...                                           ...            ...   \n",
      "1372                  Gulfport Energy Corporation -102298.416696   \n",
      "1373                       Galapagos Holding S.A. -153447.716494   \n",
      "1374                                Welbilt, Inc. -167397.488340   \n",
      "1375                               GameStop Corp. -204596.938165   \n",
      "1376                                   Xylem Inc. -245516.321013   \n",
      "\n",
      "      ROE - Return On Equity  Net Profit Margin  \\\n",
      "0                    -8.5292             3.4913   \n",
      "1                    -9.0472             3.1268   \n",
      "2                    36.3612           -50.7172   \n",
      "3                    -1.3259            -6.2495   \n",
      "4                    31.4468           -21.3110   \n",
      "...                      ...                ...   \n",
      "1372                 17.1459            47.2934   \n",
      "1373                 -4.8338            -5.0636   \n",
      "1374                 12.9974            10.0057   \n",
      "1375                 15.7324             3.9184   \n",
      "1376                 12.1000            10.2748   \n",
      "\n",
      "      Operating Cash Flow Per Share  Debt/Equity Ratio  \n",
      "0                           -0.4539            -0.1324  \n",
      "1                           -1.3615            -0.2744  \n",
      "2                            2.7457            -0.3914  \n",
      "3                            0.2649            -0.6409  \n",
      "4                           -2.9934            -0.6447  \n",
      "...                             ...                ...  \n",
      "1372                         1.2742             0.0036  \n",
      "1373                        -3.0817             0.0024  \n",
      "1374                        -0.4174             0.0022  \n",
      "1375                         1.6142             0.0018  \n",
      "1376                         0.1355             0.0015  \n",
      "\n",
      "[1377 rows x 6 columns]\n",
      "\n",
      "Rekomendasi:\n",
      "Berdasarkan analisis, perusahaan UNISYS CORPORATION memiliki skor tertinggi dan merupakan pilihan terbaik untuk investasi.\n"
     ]
    }
   ],
   "source": [
    "scores = saw_method(matrix, weights, benefit_criteria)\n",
    "\n",
    "# Menambahkan skor ke dataframe\n",
    "df['Score'] = scores\n",
    "\n",
    "# Mengurutkan berdasarkan skor\n",
    "df_sorted = df.sort_values('Score', ascending=False).reset_index(drop=True)\n",
    "\n",
    "print(\"Hasil Perangkingan:\")\n",
    "print(df_sorted[['Corporation', 'Score'] + criteria])\n",
    "\n",
    "# Rekomendasi\n",
    "print(\"\\nRekomendasi:\")\n",
    "print(f\"Berdasarkan analisis, perusahaan {df_sorted.iloc[0]['Corporation']} memiliki skor tertinggi dan merupakan pilihan terbaik untuk investasi.\")"
   ]
  }
 ],
 "metadata": {
  "kernelspec": {
   "display_name": ".venv",
   "language": "python",
   "name": "python3"
  },
  "language_info": {
   "codemirror_mode": {
    "name": "ipython",
    "version": 3
   },
   "file_extension": ".py",
   "mimetype": "text/x-python",
   "name": "python",
   "nbconvert_exporter": "python",
   "pygments_lexer": "ipython3",
   "version": "3.12.6"
  }
 },
 "nbformat": 4,
 "nbformat_minor": 2
}
