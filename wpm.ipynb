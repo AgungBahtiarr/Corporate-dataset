{
 "cells": [
  {
   "cell_type": "markdown",
   "metadata": {},
   "source": [
    "WP Weighted Product : salah satu metode penyelesaian untuk masalah MADM (Multi Attribute Decision Making). Metode ini meng-evaluasi beberapa alternatif terhadap sekumpulan atribut atau kriteria, dimana setiap atribut saling tidak bergantung satu dengan yang lainnya."
   ]
  },
  {
   "cell_type": "code",
   "execution_count": 174,
   "metadata": {},
   "outputs": [],
   "source": [
    "import numpy as np\n",
    "import pandas as pd"
   ]
  },
  {
   "cell_type": "markdown",
   "metadata": {},
   "source": [
    "Fungsi untuk normalisasi "
   ]
  },
  {
   "cell_type": "code",
   "execution_count": 175,
   "metadata": {},
   "outputs": [],
   "source": [
    "def normalize_wp(matrix, benefit_criteria):\n",
    "    normalized = np.zeros(matrix.shape)\n",
    "    for i in range(matrix.shape[1]):\n",
    "        column = matrix[:, i]\n",
    "        if i in benefit_criteria:\n",
    "            max_val = np.max(column)\n",
    "            normalized[:, i] = column / max_val if max_val != 0 else 1\n",
    "        else:\n",
    "            min_val = np.min(column)\n",
    "            normalized[:, i] = min_val / column if min_val != 0 else 1 / column\n",
    "    \n",
    "    # Mengubah nilai yang sangat kecil menjadi nilai kecil tapi tidak nol\n",
    "    epsilon = 1e-10\n",
    "    normalized[normalized < epsilon] = epsilon\n",
    "    \n",
    "    return normalized"
   ]
  },
  {
   "cell_type": "markdown",
   "metadata": {},
   "source": [
    "Fungsi untuk menghitung dengan metode WP"
   ]
  },
  {
   "cell_type": "code",
   "execution_count": 176,
   "metadata": {},
   "outputs": [],
   "source": [
    "def wp_method(matrix, weights, benefit_criteria):\n",
    "    normalized = normalize_wp(matrix, benefit_criteria)\n",
    "    powered = np.power(normalized, weights)\n",
    "    vector_s = np.prod(powered, axis=1)\n",
    "    vector_v = vector_s / np.sum(vector_s)\n",
    "    return vector_v"
   ]
  },
  {
   "cell_type": "markdown",
   "metadata": {},
   "source": [
    "Mengambil  dataset untuk dimasukkan ke dataframe"
   ]
  },
  {
   "cell_type": "code",
   "execution_count": 177,
   "metadata": {},
   "outputs": [
    {
     "name": "stdout",
     "output_type": "stream",
     "text": [
      "                         Corporation  ROE - Return On Equity  \\\n",
      "0          American States Water Co.                  8.1724   \n",
      "1     Automatic Data Processing Inc.                 22.0354   \n",
      "2                         Avnet Inc.                 13.6376   \n",
      "3       California Water Service Co.                  9.6412   \n",
      "4               Cardinal Health Inc.                 11.1256   \n",
      "...                              ...                     ...   \n",
      "1372                   Welbilt, Inc.                 12.9974   \n",
      "1373         Westlake Chemical Corp.                 18.6697   \n",
      "1374                     Xerox Corp.                  9.7833   \n",
      "1375            YPF Sociedad Anonima                  3.6742   \n",
      "1376       iHeartCommunications Inc.                 11.8335   \n",
      "\n",
      "      Net Profit Margin  Operating Cash Flow Per Share  Debt/Equity Ratio  \n",
      "0                8.3224                         1.9957             0.8847  \n",
      "1               13.5690                         0.2501             0.0073  \n",
      "2                2.1418                        -7.6079             0.4255  \n",
      "3                9.0246                         1.7438             0.9491  \n",
      "4                0.6518                         1.9725             0.4036  \n",
      "...                 ...                            ...                ...  \n",
      "1372            10.0057                        -0.4174             0.0022  \n",
      "1373            14.4074                         0.4307             0.2128  \n",
      "1374             7.9896                        -0.6035             0.6973  \n",
      "1375             2.9327                        -3.0941             0.8779  \n",
      "1376             8.0626                         0.0907             0.1523  \n",
      "\n",
      "[1377 rows x 5 columns]\n"
     ]
    }
   ],
   "source": [
    "path = \"dataset/dataset_clean.csv\"\n",
    "df = pd.read_csv(path)\n",
    "# df = df.head(4)\n",
    "print(df)"
   ]
  },
  {
   "cell_type": "markdown",
   "metadata": {},
   "source": [
    "Menentukan kriteria, bobot dan benefit"
   ]
  },
  {
   "cell_type": "code",
   "execution_count": 178,
   "metadata": {},
   "outputs": [],
   "source": [
    "criteria = ['ROE - Return On Equity', 'Net Profit Margin', 'Operating Cash Flow Per Share', 'Debt/Equity Ratio']\n",
    "weights = np.array([0.30, 0.25, 0.20, 0.25])\n",
    "benefit_criteria = [0, 1, 2] "
   ]
  },
  {
   "cell_type": "markdown",
   "metadata": {},
   "source": [
    "Membuat matrix dari data "
   ]
  },
  {
   "cell_type": "code",
   "execution_count": 179,
   "metadata": {},
   "outputs": [],
   "source": [
    "matrix = df[criteria].values\n"
   ]
  },
  {
   "cell_type": "markdown",
   "metadata": {},
   "source": [
    "Menghitung dengan fungs WP yang sudah dibuat"
   ]
  },
  {
   "cell_type": "code",
   "execution_count": 180,
   "metadata": {},
   "outputs": [
    {
     "name": "stdout",
     "output_type": "stream",
     "text": [
      "Hasil Perangkingan:\n",
      "                           Corporation         Score  ROE - Return On Equity  \\\n",
      "0                Eastman Kodak Company  2.530052e-02                 36.3612   \n",
      "1           HOVNANIAN ENTERPRISES, INC  1.714057e-02                 10.6659   \n",
      "2                    CIENA CORPORATION  1.468390e-02                161.8720   \n",
      "3                  Moody's Corporation  1.454866e-02                -68.2939   \n",
      "4              Berry Global Group Inc.  1.306806e-02                 64.0257   \n",
      "...                                ...           ...                     ...   \n",
      "1372            DXC Technology Company  1.252152e-09                -26.9584   \n",
      "1373               NEKTAR THERAPEUTICS  1.252152e-09               -365.5090   \n",
      "1374                 NEOGENOMICS, INC.  1.252152e-09                 -1.2100   \n",
      "1375              HudBay Minerals Inc.  1.252152e-09                -18.5436   \n",
      "1376  Peabody Energy Corporation (DIP)  1.252152e-09                -25.5016   \n",
      "\n",
      "      Net Profit Margin  Operating Cash Flow Per Share  Debt/Equity Ratio  \n",
      "0              -50.7172                         2.7457            -0.3914  \n",
      "1               -4.4567                        38.3681            -3.5166  \n",
      "2               -7.8532                         2.0220           -16.2075  \n",
      "3               22.3681                         2.7073            -2.0025  \n",
      "4               -6.5556                         2.5622           -10.2594  \n",
      "...                 ...                            ...                ...  \n",
      "1372            -4.1982                        -2.4004             0.9668  \n",
      "1373          -211.6675                        -0.1230             2.9054  \n",
      "1374            -2.6623                        -0.0631             0.3407  \n",
      "1375           -37.4051                        -0.4739             0.7133  \n",
      "1376           -10.8095                       -21.7798             2.1958  \n",
      "\n",
      "[1377 rows x 6 columns]\n",
      "Berdasarkan analisis Weighted Product, perusahaan Eastman Kodak Company memiliki skor tertinggi dan merupakan pilihan terbaik untuk investasi.\n"
     ]
    }
   ],
   "source": [
    "# nomalisasi = normalize_wp(matrix,benefit_criteria)\n",
    "\n",
    "# print(nomalisasi)\n",
    "\n",
    "scores = wp_method(matrix, weights, benefit_criteria)\n",
    "\n",
    "df['Score'] = scores\n",
    "\n",
    "df_sorted = df.sort_values('Score', ascending=False).reset_index(drop=True)\n",
    "\n",
    "print(\"Hasil Perangkingan:\")\n",
    "print(df_sorted[['Corporation', 'Score'] + criteria])\n",
    "\n",
    "\n",
    "# print(\"\\nRekomendasi:\")\n",
    "print(f\"Berdasarkan analisis Weighted Product, perusahaan {df_sorted.iloc[0]['Corporation']} memiliki skor tertinggi dan merupakan pilihan terbaik untuk investasi.\")"
   ]
  }
 ],
 "metadata": {
  "kernelspec": {
   "display_name": ".venv",
   "language": "python",
   "name": "python3"
  },
  "language_info": {
   "codemirror_mode": {
    "name": "ipython",
    "version": 3
   },
   "file_extension": ".py",
   "mimetype": "text/x-python",
   "name": "python",
   "nbconvert_exporter": "python",
   "pygments_lexer": "ipython3",
   "version": "3.12.6"
  }
 },
 "nbformat": 4,
 "nbformat_minor": 2
}
